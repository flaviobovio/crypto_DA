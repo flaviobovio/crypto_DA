{
 "cells": [
  {
   "cell_type": "code",
   "execution_count": 15,
   "metadata": {},
   "outputs": [],
   "source": [
    "import pandas as pd"
   ]
  },
  {
   "cell_type": "code",
   "execution_count": 16,
   "metadata": {},
   "outputs": [],
   "source": [
    "stablecoins = pd.read_json('https://api.coingecko.com/api/v3/coins/markets?vs_currency=usd&category=stablecoins&order=market_cap_desc&per_page=100&page=1&sparkline=false&locale=en')\n",
    "maxvolume   = pd.read_json('https://api.coingecko.com/api/v3/coins/markets?vs_currency=usd&order=volume_desc&per_page=100&page=1&sparkline=false&locale=en')\n",
    "market_cap  = pd.read_json('https://api.coingecko.com/api/v3/coins/markets?vs_currency=usd&order=market_cap_desc&per_page=100&page=1&sparkline=false&locale=en')"
   ]
  },
  {
   "cell_type": "code",
   "execution_count": 17,
   "metadata": {},
   "outputs": [
    {
     "data": {
      "text/plain": [
       "['tether',\n",
       " 'usd-coin',\n",
       " 'dai',\n",
       " 'binance-usd',\n",
       " 'true-usd',\n",
       " 'frax',\n",
       " 'usdd',\n",
       " 'paxos-standard',\n",
       " 'pax-gold',\n",
       " 'tether-gold',\n",
       " 'first-digital-usd',\n",
       " 'gemini-dollar',\n",
       " 'liquity-usd',\n",
       " 'tether-eurt',\n",
       " 'eusd-27a558b0-8b5b-4225-a614-63539da936f4',\n",
       " 'alchemix-usd',\n",
       " 'stasis-eurs',\n",
       " 'terrausd',\n",
       " 'bilira',\n",
       " 'magic-internet-money',\n",
       " 'bob',\n",
       " 'dola-usd',\n",
       " 'xsgd',\n",
       " 'flex-usd',\n",
       " 'helio-protocol-hay',\n",
       " 'nusd',\n",
       " 'bean',\n",
       " 'fei-usd',\n",
       " 'token-dforce-usd',\n",
       " 'mimatic',\n",
       " 'r',\n",
       " 'origin-dollar',\n",
       " 'ageur',\n",
       " 'tor',\n",
       " 'zusd',\n",
       " 'celo-euro',\n",
       " 'gyen',\n",
       " 'yusd-stablecoin',\n",
       " 'usdx',\n",
       " 'wemix-dollar',\n",
       " 'husd',\n",
       " 'vesta-stable',\n",
       " 'celo-dollar',\n",
       " 'straitsx-indonesia-rupiah',\n",
       " 'djed',\n",
       " 'vai',\n",
       " 'seur',\n",
       " 'musd',\n",
       " 'cnh-tether',\n",
       " 'usdp',\n",
       " 'par-stablecoin',\n",
       " 'equilibrium-eosdt',\n",
       " 'spiceusd',\n",
       " 'sperax-usd',\n",
       " 'coin98-dollar',\n",
       " 'usdk',\n",
       " 'reserve',\n",
       " 'zasset-zusd',\n",
       " 'basis-cash',\n",
       " 'statik',\n",
       " 'one-cash',\n",
       " 'dynamic-set-dollar',\n",
       " 'usd-balance',\n",
       " 'xdollar-stablecoin',\n",
       " 'binance-peg-busd',\n",
       " 'bdollar',\n",
       " 'xdai',\n",
       " 'monerium-eur-money',\n",
       " 'klaytn-dai',\n",
       " 'paypal-usd',\n",
       " 'jpy-coin',\n",
       " 'sora-synthetic-usd',\n",
       " 'stableusd',\n",
       " 'jpyc',\n",
       " 'synth-ousd',\n",
       " 'jarvis-synthetic-swiss-franc',\n",
       " 'jarvis-synthetic-euro',\n",
       " 'iron-stablecoin',\n",
       " 'iron-bsc',\n",
       " 'truecnh',\n",
       " 'decentralized-usd',\n",
       " 'crvusd',\n",
       " 'utopia-usd',\n",
       " 'cad-coin',\n",
       " 'wrapped-ust',\n",
       " 'offshift-anonusd']"
      ]
     },
     "execution_count": 17,
     "metadata": {},
     "output_type": "execute_result"
    }
   ],
   "source": [
    "stablecoins = list(stablecoins['id'])\n",
    "stablecoins"
   ]
  },
  {
   "cell_type": "code",
   "execution_count": 18,
   "metadata": {},
   "outputs": [],
   "source": [
    "maxvolume  = list(maxvolume [~maxvolume['id'].isin(stablecoins)]['id'])\n",
    "market_cap = list(market_cap[~market_cap['id'].isin(stablecoins)]['id'])"
   ]
  },
  {
   "cell_type": "code",
   "execution_count": 19,
   "metadata": {},
   "outputs": [],
   "source": [
    "# Selecciona las 8 monedas con mas vólumen\n",
    "coins = maxvolume[:8]\n",
    "i = 0\n",
    "\n",
    "#Agrego las 7 intercaladas con mayor market_cap que no existan en coins\n",
    "while len(coins)<15:\n",
    "    if market_cap[i] not in coins:\n",
    "        coins.insert(i+1, market_cap[i])\n",
    "    i += 1\n"
   ]
  },
  {
   "cell_type": "code",
   "execution_count": 20,
   "metadata": {},
   "outputs": [
    {
     "name": "stdout",
     "output_type": "stream",
     "text": [
      "['aave-eth-v1', 'bitcoin', 'ethereum', 'binancecoin', 'aave-usdc-v1', 'staked-ether', 'cardano', 'dogecoin', 'solana', 'tron', 'polkadot', 'aave-link-v1', 'aave-tusd-v1', 'ripple', 'immutable-x']\n",
      "15\n"
     ]
    }
   ],
   "source": [
    "print(coins)\n",
    "print(len(coins))"
   ]
  },
  {
   "cell_type": "code",
   "execution_count": 21,
   "metadata": {},
   "outputs": [],
   "source": [
    "coins.remove('aave-eth-v1')\n",
    "coins.remove('aave-usdc-v1')\n",
    "coins.remove('aave-link-v1')\n",
    "coins.remove('aave-tusd-v1')"
   ]
  },
  {
   "cell_type": "code",
   "execution_count": 22,
   "metadata": {},
   "outputs": [
    {
     "data": {
      "text/plain": [
       "['bitcoin',\n",
       " 'ethereum',\n",
       " 'binancecoin',\n",
       " 'staked-ether',\n",
       " 'cardano',\n",
       " 'dogecoin',\n",
       " 'solana',\n",
       " 'tron',\n",
       " 'polkadot',\n",
       " 'ripple']"
      ]
     },
     "execution_count": 22,
     "metadata": {},
     "output_type": "execute_result"
    }
   ],
   "source": [
    "coins = coins [:10]\n",
    "coins"
   ]
  },
  {
   "cell_type": "code",
   "execution_count": 23,
   "metadata": {},
   "outputs": [],
   "source": [
    "df = pd.DataFrame()\n",
    "\n",
    "# 5 años\n",
    "dias = 365 * 5 + 1\n",
    "\n",
    "for moneda in coins:\n",
    "\n",
    "    url = f'https://api.coingecko.com/api/v3/coins/{moneda}/market_chart?vs_currency=usd&days={dias}&interval=daily&precision=3'\n",
    "    df_tmp = pd.read_json(url)\n",
    "    df_tmp ['id_coin'] = moneda\n",
    "    # Elimina el último registro del día incompleto\n",
    "    df_tmp = df_tmp[:-1]\n",
    "\n",
    "\n",
    "    if len(df) > 0:\n",
    "        df = pd.concat([df, df_tmp], ignore_index=True)\n",
    "    else:\n",
    "        df = df_tmp\n",
    "\n"
   ]
  },
  {
   "cell_type": "code",
   "execution_count": 24,
   "metadata": {},
   "outputs": [
    {
     "name": "stdout",
     "output_type": "stream",
     "text": [
      "<class 'pandas.core.frame.DataFrame'>\n",
      "RangeIndex: 16093 entries, 0 to 16092\n",
      "Data columns (total 4 columns):\n",
      " #   Column         Non-Null Count  Dtype \n",
      "---  ------         --------------  ----- \n",
      " 0   prices         16093 non-null  object\n",
      " 1   market_caps    16093 non-null  object\n",
      " 2   total_volumes  16093 non-null  object\n",
      " 3   id_coin        16093 non-null  object\n",
      "dtypes: object(4)\n",
      "memory usage: 503.0+ KB\n"
     ]
    }
   ],
   "source": [
    "df.info()"
   ]
  },
  {
   "cell_type": "code",
   "execution_count": 25,
   "metadata": {},
   "outputs": [],
   "source": [
    "df['date'] = df.prices.apply(lambda x: pd.to_datetime(x[0], unit='ms'))\n",
    "df['date'] = pd.to_datetime(df['date'])\n",
    "df['prices'] = df.prices.apply(lambda x: x[1])\n",
    "df['market_caps'] = df.market_caps.apply(lambda x: x[1])\n",
    "df['total_volumes'] = df.total_volumes.apply(lambda x: x[1])"
   ]
  },
  {
   "cell_type": "code",
   "execution_count": 26,
   "metadata": {},
   "outputs": [],
   "source": [
    "df.to_csv(f'data/cotizaciones.csv', index=False)"
   ]
  },
  {
   "cell_type": "code",
   "execution_count": 27,
   "metadata": {},
   "outputs": [],
   "source": [
    "\n",
    "coins = df['id_coin'].unique()\n",
    "rows = []\n",
    "for c in coins:\n",
    "    rows.append([c, \\\n",
    "                df[df['id_coin']==c]['date'].min(),\\\n",
    "                df[df['id_coin']==c]['prices'].max(),\\\n",
    "                df[df['id_coin']==c]['prices'].min() ])\n",
    "    \n",
    "\n",
    "    \n",
    "df2 = pd.DataFrame(rows, columns=['id_coin', 'min_date', 'max_price', 'min_price'])\n",
    "\n",
    "\n",
    "\n",
    "df2.to_csv('data/monedas.csv', index=False)"
   ]
  }
 ],
 "metadata": {
  "kernelspec": {
   "display_name": "Python 3",
   "language": "python",
   "name": "python3"
  },
  "language_info": {
   "codemirror_mode": {
    "name": "ipython",
    "version": 3
   },
   "file_extension": ".py",
   "mimetype": "text/x-python",
   "name": "python",
   "nbconvert_exporter": "python",
   "pygments_lexer": "ipython3",
   "version": "3.11.4"
  },
  "orig_nbformat": 4
 },
 "nbformat": 4,
 "nbformat_minor": 2
}
